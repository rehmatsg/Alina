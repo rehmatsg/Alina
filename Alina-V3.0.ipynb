{
  "nbformat": 4,
  "nbformat_minor": 0,
  "metadata": {
    "colab": {
      "name": "Alina V3.0.ipynb",
      "provenance": [],
      "collapsed_sections": [],
      "authorship_tag": "ABX9TyN/S8E8e3PtjLC0R21pAsHl",
      "include_colab_link": true
    },
    "kernelspec": {
      "name": "python3",
      "display_name": "Python 3"
    }
  },
  "cells": [
    {
      "cell_type": "markdown",
      "metadata": {
        "id": "view-in-github",
        "colab_type": "text"
      },
      "source": [
        "<a href=\"https://colab.research.google.com/github/rehmatsg/Alina/blob/master/Alina-V3.0.ipynb\" target=\"_parent\"><img src=\"https://colab.research.google.com/assets/colab-badge.svg\" alt=\"Open In Colab\"/></a>"
      ]
    },
    {
      "cell_type": "markdown",
      "metadata": {
        "id": "vOrwXZZnm2gA"
      },
      "source": [
        "# Alina\n",
        "_V3.0_"
      ]
    },
    {
      "cell_type": "code",
      "metadata": {
        "id": "aKK8iaxMnGyC"
      },
      "source": [
        "import spacy"
      ],
      "execution_count": null,
      "outputs": []
    },
    {
      "cell_type": "markdown",
      "metadata": {
        "id": "b-7fDoxbncYm"
      },
      "source": [
        "Use the below cell to initialize Spacy, and other modules"
      ]
    },
    {
      "cell_type": "code",
      "metadata": {
        "id": "_H_Y5FN2nac9"
      },
      "source": [
        "nlp = spacy.load('en_core_web_sm') ## Creates an instance of Natural Language Processor"
      ],
      "execution_count": null,
      "outputs": []
    },
    {
      "cell_type": "markdown",
      "metadata": {
        "id": "7Y6Y45PqoQw2"
      },
      "source": [
        "Not required, but makes it feel more natural when Alina uses your name in responses"
      ]
    },
    {
      "cell_type": "code",
      "metadata": {
        "colab": {
          "base_uri": "https://localhost:8080/"
        },
        "id": "d87DQ-yIoQSy",
        "outputId": "94705cd1-8e9b-4021-b0d1-aa8e20638823"
      },
      "source": [
        "print('Hi there,\\nI\\'m Alina, a personal digital assistant.')\n",
        "user = input('What\\'s your name? ')\n",
        "alina = Alina(user, speak=False)\n",
        "print(f'Hi, {user}')"
      ],
      "execution_count": null,
      "outputs": [
        {
          "output_type": "stream",
          "text": [
            "Hi there,\n",
            "I'm Alina, a personal digital assistant.\n",
            "What's your name? Rehmat\n",
            "Hi Rehmat\n"
          ],
          "name": "stdout"
        }
      ]
    },
    {
      "cell_type": "markdown",
      "metadata": {
        "id": "BR6ZNROxn4qW"
      },
      "source": [
        "`while` block in the following cell runs Alina instance forever until a stopword is used"
      ]
    },
    {
      "cell_type": "code",
      "metadata": {
        "colab": {
          "base_uri": "https://localhost:8080/"
        },
        "id": "bbcF1_Synw9O",
        "outputId": "f61a16b2-90fc-461e-d476-faed5486763f"
      },
      "source": [
        "while True:\n",
        "  response, quit = alina.ask()\n",
        "  print(response)\n",
        "  if (quit):\n",
        "    break"
      ],
      "execution_count": null,
      "outputs": [
        {
          "output_type": "stream",
          "text": [
            "Ask me anythin' Hi\n",
            "Method Coming Soon\n",
            "Ask me anythin' quit\n"
          ],
          "name": "stdout"
        }
      ]
    },
    {
      "cell_type": "markdown",
      "metadata": {
        "id": "eo4RYQW1o0K0"
      },
      "source": [
        "Here comes the main code. `Alina` class is the root of our AI. Create an object `alina` for example by creating an instance of class `Alina`\n",
        "`alina = Alina(user_name, speak=true)`\n",
        "\n",
        "* `user_name` is User's name. This is required to make Alina look more natural.\n",
        "* Set `speak` argument to `True` if you want Alina to speak it's responses.\n",
        "\n"
      ]
    },
    {
      "cell_type": "code",
      "metadata": {
        "cellView": "code",
        "id": "ZJcdoxCzozuV"
      },
      "source": [
        "class Alina:\n",
        "  def __init__(self, username, speak):\n",
        "    self.name = username\n",
        "    self.speakAnswers = speak\n",
        "\n",
        "  def speak(text):\n",
        "    ## This method cannot work in Google Colab\n",
        "    ## Use PYTTSX3 for Text-to-Speech\n",
        "    ## Leaving it empty to use it only in IDLE or Jupyter Lab\n",
        "    return\n",
        "\n",
        "  ## This function ASK returns two variables\n",
        "  ## 1) Response (String): This is the actual response of Alina. This has to be shown to the user\n",
        "  ## 2) Quit (bool): Returns True if user has asked Alina to quit chat session\n",
        "  def ask(self):\n",
        "    what = input('Ask me anythin\\' ')\n",
        "    ## TODO\n",
        "    if (what == 'quit'):\n",
        "      return ('See you later, boss', True);\n",
        "    return ('Method Coming Soon', False);"
      ],
      "execution_count": null,
      "outputs": []
    }
  ]
}